{
 "cells": [
  {
   "cell_type": "code",
   "execution_count": 1,
   "id": "6415a4a4-21f0-4c95-b90d-e6a23abc1d2d",
   "metadata": {},
   "outputs": [],
   "source": [
    "import pandas as pd\n",
    "import numpy as np"
   ]
  },
  {
   "cell_type": "code",
   "execution_count": 2,
   "id": "6ee19710-9f39-47d3-8a92-c35f95e08d77",
   "metadata": {},
   "outputs": [
    {
     "name": "stdout",
     "output_type": "stream",
     "text": [
      "C:\\Users\\91729\\Desktop\\Projects\\New Delhi AQI\\All Code\n"
     ]
    }
   ],
   "source": [
    "# For printing current path\n",
    "import os\n",
    "print(os.getcwd())  # This will print your current working directory"
   ]
  },
  {
   "cell_type": "code",
   "execution_count": 3,
   "id": "ae7516f7-7253-41b8-9b72-8f0b5c000ba4",
   "metadata": {},
   "outputs": [
    {
     "name": "stderr",
     "output_type": "stream",
     "text": [
      "<>:2: SyntaxWarning: invalid escape sequence '\\R'\n",
      "<>:2: SyntaxWarning: invalid escape sequence '\\R'\n",
      "C:\\Users\\91729\\AppData\\Local\\Temp\\ipykernel_4532\\2061733418.py:2: SyntaxWarning: invalid escape sequence '\\R'\n",
      "  df = pd.read_csv('..\\Raw Data\\delhi_aqi - delhi_aqi.csv')\n"
     ]
    },
    {
     "data": {
      "text/html": [
       "<div>\n",
       "<style scoped>\n",
       "    .dataframe tbody tr th:only-of-type {\n",
       "        vertical-align: middle;\n",
       "    }\n",
       "\n",
       "    .dataframe tbody tr th {\n",
       "        vertical-align: top;\n",
       "    }\n",
       "\n",
       "    .dataframe thead th {\n",
       "        text-align: right;\n",
       "    }\n",
       "</style>\n",
       "<table border=\"1\" class=\"dataframe\">\n",
       "  <thead>\n",
       "    <tr style=\"text-align: right;\">\n",
       "      <th></th>\n",
       "      <th>date</th>\n",
       "      <th>co</th>\n",
       "      <th>no</th>\n",
       "      <th>no2</th>\n",
       "      <th>o3</th>\n",
       "      <th>so2</th>\n",
       "      <th>pm2_5</th>\n",
       "      <th>pm10</th>\n",
       "      <th>nh3</th>\n",
       "    </tr>\n",
       "  </thead>\n",
       "  <tbody>\n",
       "    <tr>\n",
       "      <th>0</th>\n",
       "      <td>11/25/2020</td>\n",
       "      <td>2616.9 µmole</td>\n",
       "      <td>2.2 µmole</td>\n",
       "      <td>70.6 µmole</td>\n",
       "      <td>13.6 µmole</td>\n",
       "      <td>38.6 µmole</td>\n",
       "      <td>364.6 µmole</td>\n",
       "      <td>411.7 µmole</td>\n",
       "      <td>28.6 µmole</td>\n",
       "    </tr>\n",
       "    <tr>\n",
       "      <th>1</th>\n",
       "      <td>11/25/2020</td>\n",
       "      <td>3631.6 µmole</td>\n",
       "      <td>23.3 µmole</td>\n",
       "      <td>89.1 µmole</td>\n",
       "      <td>0.3 µmole</td>\n",
       "      <td>54.4 µmole</td>\n",
       "      <td>421.0 µmole</td>\n",
       "      <td>486.2 µmole</td>\n",
       "      <td>41.0 µmole</td>\n",
       "    </tr>\n",
       "    <tr>\n",
       "      <th>2</th>\n",
       "      <td>11/25/2020</td>\n",
       "      <td>4539.5 µmole</td>\n",
       "      <td>52.8 µmole</td>\n",
       "      <td>100.1 µmole</td>\n",
       "      <td>1.1 µmole</td>\n",
       "      <td>68.7 µmole</td>\n",
       "      <td>463.7 µmole</td>\n",
       "      <td>542.0 µmole</td>\n",
       "      <td>49.1 µmole</td>\n",
       "    </tr>\n",
       "    <tr>\n",
       "      <th>3</th>\n",
       "      <td>11/25/2020</td>\n",
       "      <td>4539.5 µmole</td>\n",
       "      <td>51.0 µmole</td>\n",
       "      <td>111.0 µmole</td>\n",
       "      <td>6.4 µmole</td>\n",
       "      <td>78.2 µmole</td>\n",
       "      <td>454.8 µmole</td>\n",
       "      <td>534.0 µmole</td>\n",
       "      <td>48.1 µmole</td>\n",
       "    </tr>\n",
       "    <tr>\n",
       "      <th>4</th>\n",
       "      <td>11/25/2020</td>\n",
       "      <td>4379.3 µmole</td>\n",
       "      <td>42.9 µmole</td>\n",
       "      <td>117.9 µmole</td>\n",
       "      <td>17.2 µmole</td>\n",
       "      <td>87.7 µmole</td>\n",
       "      <td>448.1 µmole</td>\n",
       "      <td>529.2 µmole</td>\n",
       "      <td>46.6 µmole</td>\n",
       "    </tr>\n",
       "  </tbody>\n",
       "</table>\n",
       "</div>"
      ],
      "text/plain": [
       "         date            co          no          no2          o3         so2  \\\n",
       "0  11/25/2020  2616.9 µmole   2.2 µmole   70.6 µmole  13.6 µmole  38.6 µmole   \n",
       "1  11/25/2020  3631.6 µmole  23.3 µmole   89.1 µmole   0.3 µmole  54.4 µmole   \n",
       "2  11/25/2020  4539.5 µmole  52.8 µmole  100.1 µmole   1.1 µmole  68.7 µmole   \n",
       "3  11/25/2020  4539.5 µmole  51.0 µmole  111.0 µmole   6.4 µmole  78.2 µmole   \n",
       "4  11/25/2020  4379.3 µmole  42.9 µmole  117.9 µmole  17.2 µmole  87.7 µmole   \n",
       "\n",
       "         pm2_5         pm10         nh3  \n",
       "0  364.6 µmole  411.7 µmole  28.6 µmole  \n",
       "1  421.0 µmole  486.2 µmole  41.0 µmole  \n",
       "2  463.7 µmole  542.0 µmole  49.1 µmole  \n",
       "3  454.8 µmole  534.0 µmole  48.1 µmole  \n",
       "4  448.1 µmole  529.2 µmole  46.6 µmole  "
      ]
     },
     "execution_count": 3,
     "metadata": {},
     "output_type": "execute_result"
    }
   ],
   "source": [
    "# Loading our dataset and printing top 5 rows of our dataset\n",
    "df = pd.read_csv('..\\Raw Data\\delhi_aqi - delhi_aqi.csv')\n",
    "df.head()"
   ]
  },
  {
   "cell_type": "code",
   "execution_count": 4,
   "id": "207f96f3-0ff8-4ec6-b778-1c421490f36b",
   "metadata": {},
   "outputs": [
    {
     "data": {
      "text/html": [
       "<div>\n",
       "<style scoped>\n",
       "    .dataframe tbody tr th:only-of-type {\n",
       "        vertical-align: middle;\n",
       "    }\n",
       "\n",
       "    .dataframe tbody tr th {\n",
       "        vertical-align: top;\n",
       "    }\n",
       "\n",
       "    .dataframe thead th {\n",
       "        text-align: right;\n",
       "    }\n",
       "</style>\n",
       "<table border=\"1\" class=\"dataframe\">\n",
       "  <thead>\n",
       "    <tr style=\"text-align: right;\">\n",
       "      <th></th>\n",
       "      <th>Date</th>\n",
       "      <th>CO (Âµmole)</th>\n",
       "      <th>NO (Âµmole)</th>\n",
       "      <th>NO2 (Âµmole)</th>\n",
       "      <th>O3 (Âµmole)</th>\n",
       "      <th>SO2 (Âµmole)</th>\n",
       "      <th>PM2.5 (Âµmole)</th>\n",
       "      <th>PM10 (Âµmole)</th>\n",
       "      <th>NH3 (Âµmole)</th>\n",
       "    </tr>\n",
       "  </thead>\n",
       "  <tbody>\n",
       "    <tr>\n",
       "      <th>0</th>\n",
       "      <td>11/25/2020</td>\n",
       "      <td>2616.9</td>\n",
       "      <td>2.2</td>\n",
       "      <td>70.6</td>\n",
       "      <td>13.6</td>\n",
       "      <td>38.6</td>\n",
       "      <td>364.6</td>\n",
       "      <td>411.7</td>\n",
       "      <td>28.6</td>\n",
       "    </tr>\n",
       "    <tr>\n",
       "      <th>1</th>\n",
       "      <td>11/25/2020</td>\n",
       "      <td>3631.6</td>\n",
       "      <td>23.3</td>\n",
       "      <td>89.1</td>\n",
       "      <td>0.3</td>\n",
       "      <td>54.4</td>\n",
       "      <td>421.0</td>\n",
       "      <td>486.2</td>\n",
       "      <td>41.0</td>\n",
       "    </tr>\n",
       "    <tr>\n",
       "      <th>2</th>\n",
       "      <td>11/25/2020</td>\n",
       "      <td>4539.5</td>\n",
       "      <td>52.8</td>\n",
       "      <td>100.1</td>\n",
       "      <td>1.1</td>\n",
       "      <td>68.7</td>\n",
       "      <td>463.7</td>\n",
       "      <td>542.0</td>\n",
       "      <td>49.1</td>\n",
       "    </tr>\n",
       "    <tr>\n",
       "      <th>3</th>\n",
       "      <td>11/25/2020</td>\n",
       "      <td>4539.5</td>\n",
       "      <td>51.0</td>\n",
       "      <td>111.0</td>\n",
       "      <td>6.4</td>\n",
       "      <td>78.2</td>\n",
       "      <td>454.8</td>\n",
       "      <td>534.0</td>\n",
       "      <td>48.1</td>\n",
       "    </tr>\n",
       "    <tr>\n",
       "      <th>4</th>\n",
       "      <td>11/25/2020</td>\n",
       "      <td>4379.3</td>\n",
       "      <td>42.9</td>\n",
       "      <td>117.9</td>\n",
       "      <td>17.2</td>\n",
       "      <td>87.7</td>\n",
       "      <td>448.1</td>\n",
       "      <td>529.2</td>\n",
       "      <td>46.6</td>\n",
       "    </tr>\n",
       "    <tr>\n",
       "      <th>...</th>\n",
       "      <td>...</td>\n",
       "      <td>...</td>\n",
       "      <td>...</td>\n",
       "      <td>...</td>\n",
       "      <td>...</td>\n",
       "      <td>...</td>\n",
       "      <td>...</td>\n",
       "      <td>...</td>\n",
       "      <td>...</td>\n",
       "    </tr>\n",
       "    <tr>\n",
       "      <th>18771</th>\n",
       "      <td>1/24/2023</td>\n",
       "      <td>1762.4</td>\n",
       "      <td>4.6</td>\n",
       "      <td>37.0</td>\n",
       "      <td>33.3</td>\n",
       "      <td>30.5</td>\n",
       "      <td>231.2</td>\n",
       "      <td>289.8</td>\n",
       "      <td>6.3</td>\n",
       "    </tr>\n",
       "    <tr>\n",
       "      <th>18772</th>\n",
       "      <td>1/24/2023</td>\n",
       "      <td>1735.7</td>\n",
       "      <td>6.8</td>\n",
       "      <td>35.0</td>\n",
       "      <td>46.5</td>\n",
       "      <td>34.3</td>\n",
       "      <td>225.1</td>\n",
       "      <td>280.5</td>\n",
       "      <td>9.1</td>\n",
       "    </tr>\n",
       "    <tr>\n",
       "      <th>18773</th>\n",
       "      <td>1/24/2023</td>\n",
       "      <td>1922.6</td>\n",
       "      <td>8.2</td>\n",
       "      <td>40.1</td>\n",
       "      <td>56.5</td>\n",
       "      <td>43.4</td>\n",
       "      <td>242.5</td>\n",
       "      <td>296.1</td>\n",
       "      <td>12.5</td>\n",
       "    </tr>\n",
       "    <tr>\n",
       "      <th>18774</th>\n",
       "      <td>1/24/2023</td>\n",
       "      <td>1361.9</td>\n",
       "      <td>9.1</td>\n",
       "      <td>52.8</td>\n",
       "      <td>71.5</td>\n",
       "      <td>100.1</td>\n",
       "      <td>165.7</td>\n",
       "      <td>191.8</td>\n",
       "      <td>7.5</td>\n",
       "    </tr>\n",
       "    <tr>\n",
       "      <th>18775</th>\n",
       "      <td>1/24/2023</td>\n",
       "      <td>1134.9</td>\n",
       "      <td>8.6</td>\n",
       "      <td>56.9</td>\n",
       "      <td>80.1</td>\n",
       "      <td>110.6</td>\n",
       "      <td>123.8</td>\n",
       "      <td>140.3</td>\n",
       "      <td>5.5</td>\n",
       "    </tr>\n",
       "  </tbody>\n",
       "</table>\n",
       "<p>18776 rows × 9 columns</p>\n",
       "</div>"
      ],
      "text/plain": [
       "             Date CO (Âµmole) NO (Âµmole) NO2 (Âµmole) O3 (Âµmole)  \\\n",
       "0      11/25/2020     2616.9         2.2         70.6        13.6    \n",
       "1      11/25/2020     3631.6        23.3         89.1         0.3    \n",
       "2      11/25/2020     4539.5        52.8        100.1         1.1    \n",
       "3      11/25/2020     4539.5        51.0        111.0         6.4    \n",
       "4      11/25/2020     4379.3        42.9        117.9        17.2    \n",
       "...           ...         ...         ...          ...         ...   \n",
       "18771   1/24/2023     1762.4         4.6         37.0        33.3    \n",
       "18772   1/24/2023     1735.7         6.8         35.0        46.5    \n",
       "18773   1/24/2023     1922.6         8.2         40.1        56.5    \n",
       "18774   1/24/2023     1361.9         9.1         52.8        71.5    \n",
       "18775   1/24/2023     1134.9         8.6         56.9        80.1    \n",
       "\n",
       "      SO2 (Âµmole) PM2.5 (Âµmole) PM10 (Âµmole) NH3 (Âµmole)  \n",
       "0            38.6          364.6         411.7         28.6   \n",
       "1            54.4          421.0         486.2         41.0   \n",
       "2            68.7          463.7         542.0         49.1   \n",
       "3            78.2          454.8         534.0         48.1   \n",
       "4            87.7          448.1         529.2         46.6   \n",
       "...            ...            ...           ...          ...  \n",
       "18771        30.5          231.2         289.8          6.3   \n",
       "18772        34.3          225.1         280.5          9.1   \n",
       "18773        43.4          242.5         296.1         12.5   \n",
       "18774       100.1          165.7         191.8          7.5   \n",
       "18775       110.6          123.8         140.3          5.5   \n",
       "\n",
       "[18776 rows x 9 columns]"
      ]
     },
     "execution_count": 4,
     "metadata": {},
     "output_type": "execute_result"
    }
   ],
   "source": [
    "# First let's remove Âµmole from all cells and just mention them in columne header of each row (Renaming columns)\n",
    "df = df.replace({'µmole' : ''} , regex = True)\n",
    "df = df.rename(columns={\n",
    "    'date': 'Date',\n",
    "    'co': 'CO (Âµmole)',\n",
    "    'no': 'NO (Âµmole)',\n",
    "    'no2': 'NO2 (Âµmole)',\n",
    "    'o3': 'O3 (Âµmole)',\n",
    "    'so2': 'SO2 (Âµmole)',\n",
    "    'pm2_5': 'PM2.5 (Âµmole)',\n",
    "    'pm10': 'PM10 (Âµmole)',\n",
    "    'nh3': 'NH3 (Âµmole)'\n",
    "})\n",
    "df"
   ]
  },
  {
   "cell_type": "code",
   "execution_count": 5,
   "id": "cc7571f8-d975-4435-a995-c0a2d32f9e77",
   "metadata": {},
   "outputs": [
    {
     "data": {
      "text/plain": [
       "(18776, 9)"
      ]
     },
     "execution_count": 5,
     "metadata": {},
     "output_type": "execute_result"
    }
   ],
   "source": [
    "df.shape"
   ]
  },
  {
   "cell_type": "code",
   "execution_count": 6,
   "id": "75ec78ea-5e68-41f9-b952-fbed0b52bebf",
   "metadata": {},
   "outputs": [
    {
     "name": "stdout",
     "output_type": "stream",
     "text": [
      "<class 'pandas.core.frame.DataFrame'>\n",
      "RangeIndex: 18776 entries, 0 to 18775\n",
      "Data columns (total 9 columns):\n",
      " #   Column          Non-Null Count  Dtype \n",
      "---  ------          --------------  ----- \n",
      " 0   Date            18776 non-null  object\n",
      " 1   CO (Âµmole)     18776 non-null  object\n",
      " 2   NO (Âµmole)     18776 non-null  object\n",
      " 3   NO2 (Âµmole)    18776 non-null  object\n",
      " 4   O3 (Âµmole)     18776 non-null  object\n",
      " 5   SO2 (Âµmole)    18776 non-null  object\n",
      " 6   PM2.5 (Âµmole)  18776 non-null  object\n",
      " 7   PM10 (Âµmole)   18776 non-null  object\n",
      " 8   NH3 (Âµmole)    18776 non-null  object\n",
      "dtypes: object(9)\n",
      "memory usage: 1.3+ MB\n"
     ]
    }
   ],
   "source": [
    "# Checking what data types each column our dataset has\n",
    "df.info()"
   ]
  },
  {
   "cell_type": "code",
   "execution_count": 7,
   "id": "0ab9a394-f058-4b51-b3cd-0975e5dde318",
   "metadata": {},
   "outputs": [],
   "source": [
    "# Since Date's datatype is object, Let's convert it to Data time\n",
    "df['Date'] = pd.to_datetime(df['Date'] , errors = 'coerce')"
   ]
  },
  {
   "cell_type": "code",
   "execution_count": 8,
   "id": "097494b3-55ab-4521-8d4b-ca446bed39c7",
   "metadata": {},
   "outputs": [
    {
     "data": {
      "text/plain": [
       "Date              datetime64[ns]\n",
       "CO (Âµmole)               object\n",
       "NO (Âµmole)               object\n",
       "NO2 (Âµmole)              object\n",
       "O3 (Âµmole)               object\n",
       "SO2 (Âµmole)              object\n",
       "PM2.5 (Âµmole)            object\n",
       "PM10 (Âµmole)             object\n",
       "NH3 (Âµmole)              object\n",
       "dtype: object"
      ]
     },
     "execution_count": 8,
     "metadata": {},
     "output_type": "execute_result"
    }
   ],
   "source": [
    "df.dtypes"
   ]
  },
  {
   "cell_type": "code",
   "execution_count": 9,
   "id": "dc9a6eae-ed0a-47fe-a130-ec23d4800ecc",
   "metadata": {},
   "outputs": [
    {
     "data": {
      "text/plain": [
       "Date              datetime64[ns]\n",
       "CO (Âµmole)              float64\n",
       "NO (Âµmole)              float64\n",
       "NO2 (Âµmole)             float64\n",
       "O3 (Âµmole)              float64\n",
       "SO2 (Âµmole)             float64\n",
       "PM2.5 (Âµmole)           float64\n",
       "PM10 (Âµmole)            float64\n",
       "NH3 (Âµmole)             float64\n",
       "dtype: object"
      ]
     },
     "execution_count": 9,
     "metadata": {},
     "output_type": "execute_result"
    }
   ],
   "source": [
    "# Now convert data type of other columns from object to float\n",
    "columns_to_convert = ['CO (Âµmole)', 'NO (Âµmole)', 'NO2 (Âµmole)', 'O3 (Âµmole)', 'SO2 (Âµmole)', 'PM2.5 (Âµmole)', 'PM10 (Âµmole)', 'NH3 (Âµmole)']\n",
    "df[columns_to_convert] = df[columns_to_convert].astype(float)\n",
    "df.dtypes"
   ]
  },
  {
   "cell_type": "code",
   "execution_count": 10,
   "id": "f00d4f96-33c5-4870-8326-951d8ec05ca4",
   "metadata": {},
   "outputs": [
    {
     "data": {
      "text/plain": [
       "np.int64(0)"
      ]
     },
     "execution_count": 10,
     "metadata": {},
     "output_type": "execute_result"
    }
   ],
   "source": [
    "# Checking duplicated rows\n",
    "df.duplicated().sum()"
   ]
  },
  {
   "cell_type": "code",
   "execution_count": 11,
   "id": "301daed1-7f1c-4572-abb6-27a296e3d9e3",
   "metadata": {},
   "outputs": [
    {
     "data": {
      "text/plain": [
       "Date              0\n",
       "CO (Âµmole)       0\n",
       "NO (Âµmole)       0\n",
       "NO2 (Âµmole)      0\n",
       "O3 (Âµmole)       0\n",
       "SO2 (Âµmole)      0\n",
       "PM2.5 (Âµmole)    0\n",
       "PM10 (Âµmole)     0\n",
       "NH3 (Âµmole)      0\n",
       "dtype: int64"
      ]
     },
     "execution_count": 11,
     "metadata": {},
     "output_type": "execute_result"
    }
   ],
   "source": [
    "# Checking for null values\n",
    "df.isnull().sum()"
   ]
  },
  {
   "cell_type": "code",
   "execution_count": 12,
   "id": "cca7d328-abd9-4396-b534-4ef8381e0704",
   "metadata": {},
   "outputs": [
    {
     "name": "stdout",
     "output_type": "stream",
     "text": [
      "Duplicate Dates Found : \n",
      "            Date  CO (Âµmole)  NO (Âµmole)  NO2 (Âµmole)  O3 (Âµmole)  \\\n",
      "1     2020-11-25       3631.6         23.3          89.1          0.3   \n",
      "2     2020-11-25       4539.5         52.8         100.1          1.1   \n",
      "3     2020-11-25       4539.5         51.0         111.0          6.4   \n",
      "4     2020-11-25       4379.3         42.9         117.9         17.2   \n",
      "5     2020-11-25       3898.6         28.4         117.9         40.1   \n",
      "...          ...          ...          ...           ...          ...   \n",
      "18771 2023-01-24       1762.4          4.6          37.0         33.3   \n",
      "18772 2023-01-24       1735.7          6.8          35.0         46.5   \n",
      "18773 2023-01-24       1922.6          8.2          40.1         56.5   \n",
      "18774 2023-01-24       1361.9          9.1          52.8         71.5   \n",
      "18775 2023-01-24       1134.9          8.6          56.9         80.1   \n",
      "\n",
      "       SO2 (Âµmole)  PM2.5 (Âµmole)  PM10 (Âµmole)  NH3 (Âµmole)  \n",
      "1              54.4           421.0          486.2          41.0  \n",
      "2              68.7           463.7          542.0          49.1  \n",
      "3              78.2           454.8          534.0          48.1  \n",
      "4              87.7           448.1          529.2          46.6  \n",
      "5             101.1           437.3          511.8          42.1  \n",
      "...             ...             ...            ...           ...  \n",
      "18771          30.5           231.2          289.8           6.3  \n",
      "18772          34.3           225.1          280.5           9.1  \n",
      "18773          43.4           242.5          296.1          12.5  \n",
      "18774         100.1           165.7          191.8           7.5  \n",
      "18775         110.6           123.8          140.3           5.5  \n",
      "\n",
      "[17987 rows x 9 columns]\n"
     ]
    }
   ],
   "source": [
    "# Checking for duplicates in date\n",
    "duplicate_dates = df[df.duplicated(subset = 'Date')]\n",
    "if not duplicate_dates.empty:\n",
    "    print(\"Duplicate Dates Found : \")\n",
    "    print(duplicate_dates)"
   ]
  },
  {
   "cell_type": "code",
   "execution_count": 13,
   "id": "8971f382-5f9e-4c9e-aadb-7f0c876e8cdc",
   "metadata": {},
   "outputs": [
    {
     "name": "stdout",
     "output_type": "stream",
     "text": [
      "No negative values found in the dataset.\n"
     ]
    }
   ],
   "source": [
    "# Creating a variable which does contain Date column\n",
    "numeric_df = df.drop(columns=['Date'])\n",
    "\n",
    "# Check for negative values in the numeric columns\n",
    "negative_values = (numeric_df < 0).any()\n",
    "\n",
    "# Display the columns that contain negative values\n",
    "negative_columns = negative_values[negative_values].index.tolist()\n",
    "\n",
    "if negative_columns:\n",
    "    print(f\"Columns with negative values: {negative_columns}\")\n",
    "else:\n",
    "    print(\"No negative values found in the dataset.\")"
   ]
  },
  {
   "cell_type": "code",
   "execution_count": 14,
   "id": "be2047db-9c71-46e6-9f2e-f7accde7b29f",
   "metadata": {},
   "outputs": [
    {
     "data": {
      "text/html": [
       "<div>\n",
       "<style scoped>\n",
       "    .dataframe tbody tr th:only-of-type {\n",
       "        vertical-align: middle;\n",
       "    }\n",
       "\n",
       "    .dataframe tbody tr th {\n",
       "        vertical-align: top;\n",
       "    }\n",
       "\n",
       "    .dataframe thead th {\n",
       "        text-align: right;\n",
       "    }\n",
       "</style>\n",
       "<table border=\"1\" class=\"dataframe\">\n",
       "  <thead>\n",
       "    <tr style=\"text-align: right;\">\n",
       "      <th></th>\n",
       "      <th>Date</th>\n",
       "      <th>CO (Âµmole)</th>\n",
       "      <th>NO (Âµmole)</th>\n",
       "      <th>NO2 (Âµmole)</th>\n",
       "      <th>O3 (Âµmole)</th>\n",
       "      <th>SO2 (Âµmole)</th>\n",
       "      <th>PM2.5 (Âµmole)</th>\n",
       "      <th>PM10 (Âµmole)</th>\n",
       "      <th>NH3 (Âµmole)</th>\n",
       "    </tr>\n",
       "  </thead>\n",
       "  <tbody>\n",
       "    <tr>\n",
       "      <th>count</th>\n",
       "      <td>18776</td>\n",
       "      <td>18776.000000</td>\n",
       "      <td>18776.000000</td>\n",
       "      <td>18776.000000</td>\n",
       "      <td>18776.000000</td>\n",
       "      <td>18776.000000</td>\n",
       "      <td>18776.000000</td>\n",
       "      <td>18776.000000</td>\n",
       "      <td>18776.000000</td>\n",
       "    </tr>\n",
       "    <tr>\n",
       "      <th>mean</th>\n",
       "      <td>2021-12-23 03:05:45.121431808</td>\n",
       "      <td>2929.233138</td>\n",
       "      <td>33.664732</td>\n",
       "      <td>66.226475</td>\n",
       "      <td>60.349425</td>\n",
       "      <td>66.698983</td>\n",
       "      <td>238.135300</td>\n",
       "      <td>300.098077</td>\n",
       "      <td>25.115632</td>\n",
       "    </tr>\n",
       "    <tr>\n",
       "      <th>min</th>\n",
       "      <td>2020-11-25 00:00:00</td>\n",
       "      <td>260.400000</td>\n",
       "      <td>0.000000</td>\n",
       "      <td>4.300000</td>\n",
       "      <td>0.000000</td>\n",
       "      <td>5.300000</td>\n",
       "      <td>11.800000</td>\n",
       "      <td>15.100000</td>\n",
       "      <td>0.000000</td>\n",
       "    </tr>\n",
       "    <tr>\n",
       "      <th>25%</th>\n",
       "      <td>2021-06-09 00:00:00</td>\n",
       "      <td>1068.100000</td>\n",
       "      <td>0.700000</td>\n",
       "      <td>33.900000</td>\n",
       "      <td>0.300000</td>\n",
       "      <td>34.800000</td>\n",
       "      <td>84.400000</td>\n",
       "      <td>118.800000</td>\n",
       "      <td>9.600000</td>\n",
       "    </tr>\n",
       "    <tr>\n",
       "      <th>50%</th>\n",
       "      <td>2021-12-22 00:00:00</td>\n",
       "      <td>1842.500000</td>\n",
       "      <td>5.300000</td>\n",
       "      <td>54.200000</td>\n",
       "      <td>27.200000</td>\n",
       "      <td>52.900000</td>\n",
       "      <td>157.450000</td>\n",
       "      <td>209.700000</td>\n",
       "      <td>17.500000</td>\n",
       "    </tr>\n",
       "    <tr>\n",
       "      <th>75%</th>\n",
       "      <td>2022-07-07 00:00:00</td>\n",
       "      <td>3685.000000</td>\n",
       "      <td>35.800000</td>\n",
       "      <td>83.600000</td>\n",
       "      <td>93.000000</td>\n",
       "      <td>82.000000</td>\n",
       "      <td>313.000000</td>\n",
       "      <td>387.925000</td>\n",
       "      <td>30.400000</td>\n",
       "    </tr>\n",
       "    <tr>\n",
       "      <th>max</th>\n",
       "      <td>2023-01-24 00:00:00</td>\n",
       "      <td>21148.700000</td>\n",
       "      <td>500.700000</td>\n",
       "      <td>460.600000</td>\n",
       "      <td>801.100000</td>\n",
       "      <td>579.800000</td>\n",
       "      <td>1708.100000</td>\n",
       "      <td>1969.900000</td>\n",
       "      <td>287.800000</td>\n",
       "    </tr>\n",
       "    <tr>\n",
       "      <th>std</th>\n",
       "      <td>NaN</td>\n",
       "      <td>2854.523245</td>\n",
       "      <td>62.127585</td>\n",
       "      <td>48.527621</td>\n",
       "      <td>80.465939</td>\n",
       "      <td>49.438873</td>\n",
       "      <td>226.533638</td>\n",
       "      <td>267.165899</td>\n",
       "      <td>26.401633</td>\n",
       "    </tr>\n",
       "  </tbody>\n",
       "</table>\n",
       "</div>"
      ],
      "text/plain": [
       "                                Date   CO (Âµmole)   NO (Âµmole)  \\\n",
       "count                          18776  18776.000000  18776.000000   \n",
       "mean   2021-12-23 03:05:45.121431808   2929.233138     33.664732   \n",
       "min              2020-11-25 00:00:00    260.400000      0.000000   \n",
       "25%              2021-06-09 00:00:00   1068.100000      0.700000   \n",
       "50%              2021-12-22 00:00:00   1842.500000      5.300000   \n",
       "75%              2022-07-07 00:00:00   3685.000000     35.800000   \n",
       "max              2023-01-24 00:00:00  21148.700000    500.700000   \n",
       "std                              NaN   2854.523245     62.127585   \n",
       "\n",
       "       NO2 (Âµmole)   O3 (Âµmole)  SO2 (Âµmole)  PM2.5 (Âµmole)  \\\n",
       "count  18776.000000  18776.000000  18776.000000    18776.000000   \n",
       "mean      66.226475     60.349425     66.698983      238.135300   \n",
       "min        4.300000      0.000000      5.300000       11.800000   \n",
       "25%       33.900000      0.300000     34.800000       84.400000   \n",
       "50%       54.200000     27.200000     52.900000      157.450000   \n",
       "75%       83.600000     93.000000     82.000000      313.000000   \n",
       "max      460.600000    801.100000    579.800000     1708.100000   \n",
       "std       48.527621     80.465939     49.438873      226.533638   \n",
       "\n",
       "       PM10 (Âµmole)  NH3 (Âµmole)  \n",
       "count   18776.000000  18776.000000  \n",
       "mean      300.098077     25.115632  \n",
       "min        15.100000      0.000000  \n",
       "25%       118.800000      9.600000  \n",
       "50%       209.700000     17.500000  \n",
       "75%       387.925000     30.400000  \n",
       "max      1969.900000    287.800000  \n",
       "std       267.165899     26.401633  "
      ]
     },
     "execution_count": 14,
     "metadata": {},
     "output_type": "execute_result"
    }
   ],
   "source": [
    "#Summary statistics for the dataset\n",
    "df.describe()"
   ]
  },
  {
   "cell_type": "code",
   "execution_count": 15,
   "id": "f8d6f0d5-ae68-490d-827c-55b30bc2732a",
   "metadata": {},
   "outputs": [
    {
     "data": {
      "text/plain": [
       "Date              datetime64[ns]\n",
       "CO (Âµmole)              float64\n",
       "NO (Âµmole)              float64\n",
       "NO2 (Âµmole)             float64\n",
       "O3 (Âµmole)              float64\n",
       "SO2 (Âµmole)             float64\n",
       "PM2.5 (Âµmole)           float64\n",
       "PM10 (Âµmole)            float64\n",
       "NH3 (Âµmole)             float64\n",
       "dtype: object"
      ]
     },
     "execution_count": 15,
     "metadata": {},
     "output_type": "execute_result"
    }
   ],
   "source": [
    "# Validating the data type of each column Again\n",
    "df.dtypes"
   ]
  },
  {
   "cell_type": "code",
   "execution_count": 16,
   "id": "808cac19-caa6-4836-b227-52940529c0a0",
   "metadata": {},
   "outputs": [],
   "source": [
    "# Now Since our data is clean, let's Save our cleaned data\n",
    "df.to_csv(\"Clean Data\\clean_data.csv\" , index = False)"
   ]
  }
 ],
 "metadata": {
  "kernelspec": {
   "display_name": "Python 3 (ipykernel)",
   "language": "python",
   "name": "python3"
  },
  "language_info": {
   "codemirror_mode": {
    "name": "ipython",
    "version": 3
   },
   "file_extension": ".py",
   "mimetype": "text/x-python",
   "name": "python",
   "nbconvert_exporter": "python",
   "pygments_lexer": "ipython3",
   "version": "3.12.6"
  }
 },
 "nbformat": 4,
 "nbformat_minor": 5
}
